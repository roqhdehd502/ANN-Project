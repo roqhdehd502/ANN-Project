{
 "cells": [
  {
   "cell_type": "markdown",
   "metadata": {},
   "source": [
    "# Image Preprocessing"
   ]
  },
  {
   "cell_type": "markdown",
   "metadata": {},
   "source": [
    "train, test 이미지들을 100x100x3의 사이즈로 변환합니다."
   ]
  },
  {
   "cell_type": "code",
   "execution_count": 6,
   "metadata": {},
   "outputs": [],
   "source": [
    "import os\n",
    "import glob\n",
    "from PIL import Image"
   ]
  },
  {
   "cell_type": "code",
   "execution_count": 12,
   "metadata": {},
   "outputs": [],
   "source": [
    "trainFiles = glob.glob('D:/Others/Programming/Project Space/ANN_Projects/images/cars_train/*.jpg')\n",
    "testFiles = glob.glob('D:/Others/Programming/Project Space/ANN_Projects/images/cars_test/*.jpg')"
   ]
  },
  {
   "cell_type": "code",
   "execution_count": 8,
   "metadata": {},
   "outputs": [],
   "source": [
    "for f in trainFiles:\n",
    "    img = Image.open(f)\n",
    "    img_resize = img.resize((int(100), int(100)))\n",
    "    title, ext = os.path.splitext(f)\n",
    "    img_resize.save(title + '_rsz' + ext)"
   ]
  },
  {
   "cell_type": "code",
   "execution_count": 13,
   "metadata": {},
   "outputs": [],
   "source": [
    "for f in testFiles:\n",
    "    img = Image.open(f)\n",
    "    img_resize = img.resize((int(100), int(100)))\n",
    "    title, ext = os.path.splitext(f)\n",
    "    img_resize.save(title + '_rsz' + ext)"
   ]
  },
  {
   "cell_type": "code",
   "execution_count": null,
   "metadata": {},
   "outputs": [],
   "source": []
  }
 ],
 "metadata": {
  "kernelspec": {
   "display_name": "Python 3",
   "language": "python",
   "name": "python3"
  },
  "language_info": {
   "codemirror_mode": {
    "name": "ipython",
    "version": 3
   },
   "file_extension": ".py",
   "mimetype": "text/x-python",
   "name": "python",
   "nbconvert_exporter": "python",
   "pygments_lexer": "ipython3",
   "version": "3.8.3"
  }
 },
 "nbformat": 4,
 "nbformat_minor": 2
}
